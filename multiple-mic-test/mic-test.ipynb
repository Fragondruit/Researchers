{
 "cells": [
  {
   "cell_type": "code",
   "execution_count": 6,
   "id": "d1bd3976-dd1c-4e14-8ee7-0cf38840af41",
   "metadata": {},
   "outputs": [
    {
     "name": "stdout",
     "output_type": "stream",
     "text": [
      "Collecting pyaudio\n",
      "  Using cached PyAudio-0.2.11.tar.gz (37 kB)\n",
      "Building wheels for collected packages: pyaudio\n",
      "  Building wheel for pyaudio (setup.py) ... \u001b[?25ldone\n",
      "\u001b[?25h  Created wheel for pyaudio: filename=PyAudio-0.2.11-cp38-cp38-macosx_10_9_x86_64.whl size=23491 sha256=44f53baa4ff9eb6430eec1deee83f0e10e17181ce9b86d7b12f544774c792a97\n",
      "  Stored in directory: /Users/home/Library/Caches/pip/wheels/cf/be/f6/06f4d9fb96713a3ba58a480dd5739b3bf66ff0430de58a38c1\n",
      "Successfully built pyaudio\n",
      "Installing collected packages: pyaudio\n",
      "Successfully installed pyaudio-0.2.11\n",
      "Note: you may need to restart the kernel to use updated packages.\n"
     ]
    }
   ],
   "source": [
    "pip install pyaudio"
   ]
  },
  {
   "cell_type": "code",
   "execution_count": 1,
   "id": "97fdffb2-d37c-4216-8d61-545b562c543c",
   "metadata": {},
   "outputs": [],
   "source": [
    "import pyaudio\n",
    "import wave\n",
    "import time\n",
    "from IPython.display import clear_output, display\n",
    " \n",
    "FORMAT = pyaudio.paInt16\n",
    "CHANNELS = 1\n",
    "RATE = 44100\n",
    "CHUNK = 512\n",
    "RECORD_SECONDS = 420\n",
    "WAVE_OUTPUT_FILENAME = \"recordedFile\"\n",
    "device_index = 2"
   ]
  },
  {
   "cell_type": "code",
   "execution_count": 2,
   "id": "6ae26b56-7547-48d6-981a-9be12d97d8a6",
   "metadata": {},
   "outputs": [
    {
     "output_type": "stream",
     "name": "stdout",
     "text": [
      "Enter device id to select, and enter something random to finish\n❌ Input Device id  1  -  HD Web Camera\n❌ Input Device id  2  -  BlackHole 2ch\n✅ Input Device id  3  -  External Microphone\n✅ Input Device id  5  -  MacBook Pro Microphone\n✅ Input Device id  7  -  James’s AirPods Pro\n❌ Input Device id  10  -  ZoomAudioDevice\n"
     ]
    }
   ],
   "source": [
    "# List and choose input sources\n",
    "audio = pyaudio.PyAudio()\n",
    "info = audio.get_host_api_info_by_index(0)\n",
    "numdevices = info.get('deviceCount')\n",
    "inputs = [False] * numdevices\n",
    "while (True):\n",
    "    print(\"Enter device id to select, and enter something random to finish\")\n",
    "    for i in range(0, numdevices):\n",
    "        if (audio.get_device_info_by_host_api_device_index(0, i).get('maxInputChannels')) > 0:\n",
    "            print(\"✅\" if inputs[i] else \"❌\", \"Input Device id \", i, \" - \", audio.get_device_info_by_host_api_device_index(0, i).get('name'))\n",
    "    try:\n",
    "        index = int(input())\n",
    "        if (index < 0 or index >= numdevices):\n",
    "            break\n",
    "        inputs[index] = True\n",
    "    except ValueError:\n",
    "        break\n",
    "    clear_output(wait=True)"
   ]
  },
  {
   "cell_type": "code",
   "execution_count": 3,
   "metadata": {
    "tags": []
   },
   "outputs": [
    {
     "output_type": "stream",
     "name": "stdout",
     "text": [
      "Recording started with  3  devices\nOpened wav files\n"
     ]
    },
    {
     "output_type": "display_data",
     "data": {
      "text/plain": "'Time elapsed: 0s'"
     },
     "metadata": {}
    },
    {
     "output_type": "stream",
     "name": "stdout",
     "text": [
      "recording finished. You can either re-record or go to the next cell to save the file\nFiles saved\n"
     ]
    }
   ],
   "source": [
    "# Record audio directly to file\n",
    "\n",
    "# Start recording\n",
    "streams = []\n",
    "for index in range(numdevices):\n",
    "    if inputs[index]:\n",
    "        streams.append(audio.open(format=FORMAT, channels=CHANNELS, rate=RATE, input=True, input_device_index = index, frames_per_buffer=CHUNK))\n",
    "print(\"Recording started with \", len(streams), \" devices\")\n",
    "\n",
    "# Open files\n",
    "waveFiles = []\n",
    "for i in range(len(streams)):\n",
    "    waveFiles.append(wave.open(WAVE_OUTPUT_FILENAME+\"-\"+str(i)+\".wav\", 'wb'))\n",
    "    waveFiles[i].setnchannels(CHANNELS)\n",
    "    waveFiles[i].setsampwidth(audio.get_sample_size(FORMAT))\n",
    "    waveFiles[i].setframerate(RATE)\n",
    "print(\"Opened wav files\")\n",
    "\n",
    "# Write to files\n",
    "startTime = time.time()\n",
    "dh = display('Time elapsed: 0s', display_id=True)\n",
    "for i in range(int(RATE / CHUNK * RECORD_SECONDS)):\n",
    "    frames = [ [] for _ in range(len(streams)) ]\n",
    "    for j in range(len(streams)):\n",
    "        data = streams[j].read(CHUNK, exception_on_overflow = False)\n",
    "        frames[j].append(data)\n",
    "        waveFiles[j].writeframes(b''.join(frames[j]))\n",
    "    dh.update(\"Time elapsed: \" + str(int(time.time() - startTime)) + \"s\")\n",
    "    \n",
    "# Stop recording\n",
    "for stream in streams:\n",
    "    stream.stop_stream()\n",
    "    stream.close()\n",
    "audio.terminate()\n",
    "print (\"recording finished. You can either re-record or go to the next cell to save the file\")\n",
    "\n",
    "# Save files\n",
    "for i in range(len(streams)):\n",
    "    waveFiles[i].close()\n",
    "print(\"Files saved\")"
   ]
  },
  {
   "cell_type": "code",
   "execution_count": 3,
   "id": "2a71a8c6-10af-4673-a749-c68d3300a5ed",
   "metadata": {},
   "outputs": [
    {
     "name": "stdout",
     "output_type": "stream",
     "text": [
      "Recording started with  3  devices\n",
      "recording finished. You can either re-record or go to the next cell to save the file\n"
     ]
    }
   ],
   "source": [
    "# Record audio\n",
    "\n",
    "streams = []\n",
    "for index in range(numdevices):\n",
    "    if inputs[index]:\n",
    "        streams.append(audio.open(format=FORMAT, channels=CHANNELS, rate=RATE, input=True, input_device_index = index, frames_per_buffer=CHUNK))\n",
    "\n",
    "print(\"Recording started with \", len(streams), \" devices\")\n",
    "\n",
    "frames = [ [] for _ in range(len(streams)) ]\n",
    "\n",
    "for i in range(int(RATE / CHUNK * RECORD_SECONDS)):\n",
    "    for i in range(len(streams)):\n",
    "        data = streams[i].read(CHUNK, exception_on_overflow = False)\n",
    "        frames[i].append(data)\n",
    "\n",
    "for stream in streams:\n",
    "    stream.stop_stream()\n",
    "    stream.close()\n",
    "audio.terminate()\n",
    "\n",
    "print (\"recording finished. You can either re-record or go to the next cell to save the file\")"
   ]
  },
  {
   "cell_type": "code",
   "execution_count": 4,
   "id": "c8623ba8-9f35-460d-b82f-13cfa74832f4",
   "metadata": {},
   "outputs": [],
   "source": [
    "# Save to files\n",
    "\n",
    "for i in range(len(frames)):\n",
    "    waveFile = wave.open(WAVE_OUTPUT_FILENAME+\"-\"+str(i)+\".wav\", 'wb')\n",
    "    waveFile.setnchannels(CHANNELS)\n",
    "    waveFile.setsampwidth(audio.get_sample_size(FORMAT))\n",
    "    waveFile.setframerate(RATE)\n",
    "    waveFile.writeframes(b''.join(frames[i]))\n",
    "    waveFile.close()\n",
    "del frames"
   ]
  },
  {
   "cell_type": "code",
   "execution_count": 6,
   "id": "b30240ae-3e21-4981-909b-d300c83bd974",
   "metadata": {},
   "outputs": [
    {
     "name": "stderr",
     "output_type": "stream",
     "text": [
      "IOPub data rate exceeded.\n",
      "The Jupyter server will temporarily stop sending output\n",
      "to the client in order to avoid crashing it.\n",
      "To change this limit, set the config variable\n",
      "`--ServerApp.iopub_data_rate_limit`.\n",
      "\n",
      "Current values:\n",
      "ServerApp.iopub_data_rate_limit=1000000.0 (bytes/sec)\n",
      "ServerApp.rate_limit_window=3.0 (secs)\n",
      "\n"
     ]
    }
   ],
   "source": [
    "print(frames)"
   ]
  },
  {
   "cell_type": "code",
   "execution_count": null,
   "id": "168f9cb4-cc76-4eb0-a02d-c4072f7faf97",
   "metadata": {},
   "outputs": [],
   "source": []
  }
 ],
 "metadata": {
  "kernelspec": {
   "name": "python3",
   "display_name": "Python 3.8.8 64-bit ('anaconda3': virtualenv)"
  },
  "language_info": {
   "codemirror_mode": {
    "name": "ipython",
    "version": 3
   },
   "file_extension": ".py",
   "mimetype": "text/x-python",
   "name": "python",
   "nbconvert_exporter": "python",
   "pygments_lexer": "ipython3",
   "version": "3.8.8"
  },
  "interpreter": {
   "hash": "d078fd0ff3f847bc889654f7546714f76354a8c312d7928dacaa693640ef6d5a"
  }
 },
 "nbformat": 4,
 "nbformat_minor": 5
}